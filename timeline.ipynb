{
 "cells": [
  {
   "cell_type": "code",
   "execution_count": 8,
   "metadata": {},
   "outputs": [],
   "source": [
    "import pandas as pd\n",
    "import matplotlib.pyplot as plt\n",
    "import matplotlib.dates as mdates\n",
    "import plotly.express as px\n",
    "import plotly.graph_objects as go"
   ]
  },
  {
   "cell_type": "code",
   "execution_count": 35,
   "metadata": {},
   "outputs": [],
   "source": [
    "# Leer los datos\n",
    "file_path = 'Cleaned_Timeline_Data.csv'\n",
    "df = pd.read_csv(file_path)\n",
    "df = df.drop_duplicates(subset=['Swimlane', 'Phase', 'Start Date', 'End Date', 'Events'])  # evita duplicados\n",
    "\n"
   ]
  },
  {
   "cell_type": "code",
   "execution_count": null,
   "metadata": {},
   "outputs": [
    {
     "data": {
      "application/vnd.plotly.v1+json": {
       "config": {
        "plotlyServerURL": "https://plot.ly"
       },
       "data": [
        {
         "hoverinfo": "skip",
         "line": {
          "color": "#E6EAF0",
          "width": 1.5
         },
         "mode": "lines",
         "showlegend": false,
         "type": "scatter",
         "visible": true,
         "x": [
          "2024-04-01T00:00:00",
          "2025-09-30T00:00:00"
         ],
         "y": [
          0,
          0
         ]
        },
        {
         "hoverinfo": "skip",
         "line": {
          "color": "#E6EAF0",
          "width": 1.5
         },
         "mode": "lines",
         "showlegend": false,
         "type": "scatter",
         "visible": true,
         "x": [
          "2024-04-01T00:00:00",
          "2025-09-30T00:00:00"
         ],
         "y": [
          1.2,
          1.2
         ]
        },
        {
         "hoverinfo": "skip",
         "line": {
          "color": "#E6EAF0",
          "width": 1.5
         },
         "mode": "lines",
         "showlegend": false,
         "type": "scatter",
         "visible": true,
         "x": [
          "2024-04-01T00:00:00",
          "2025-09-30T00:00:00"
         ],
         "y": [
          2.4,
          2.4
         ]
        },
        {
         "hovertemplate": "<b>User engagement</b><br><b>Event:</b> Target<br><b>Phase:</b> Target market  approach (Zaragoza)<br><b>Engagement Action:</b> emails, messaging, calls and in-person meetings<br><extra></extra>",
         "line": {
          "color": "#729BFF",
          "shape": "linear",
          "width": 12
         },
         "mode": "lines+text",
         "name": "Target",
         "showlegend": false,
         "text": [
          "Interest alignment, Context info"
         ],
         "textfont": {
          "color": "#273043",
          "family": "Montserrat, Arial",
          "size": 8
         },
         "textposition": "middle center",
         "type": "scatter",
         "visible": true,
         "x": [
          "2024-10-01T00:00:00",
          "2025-01-01T00:00:00"
         ],
         "y": [
          -0.55,
          -0.55
         ]
        },
        {
         "hovertemplate": "<b>User engagement</b><br><b>Event:</b> Milestone<br><b>Phase:</b> Target market  approach (Zaragoza)<br><extra></extra>",
         "line": {
          "color": "#58DDAF",
          "shape": "linear",
          "width": 12
         },
         "mode": "lines+text",
         "name": "Milestone",
         "showlegend": false,
         "text": [
          "Strategy approach\nPreliminary mapping and contacts\nJoint roadmap & offer"
         ],
         "textfont": {
          "color": "#273043",
          "family": "Montserrat, Arial",
          "size": 8
         },
         "textposition": "middle center",
         "type": "scatter",
         "visible": true,
         "x": [
          "2024-10-01T00:00:00",
          "2025-01-01T00:00:00"
         ],
         "y": [
          -0.33,
          -0.33
         ]
        },
        {
         "hovertemplate": "<b>User engagement</b><br><b>Event:</b> Barrier<br><b>Phase:</b> Target market  approach (Zaragoza)<br><extra></extra>",
         "line": {
          "color": "#FF857F",
          "shape": "linear",
          "width": 12
         },
         "mode": "lines+text",
         "name": "Barrier",
         "showlegend": false,
         "text": [
          "Political Agenda"
         ],
         "textfont": {
          "color": "#273043",
          "family": "Montserrat, Arial",
          "size": 8
         },
         "textposition": "middle center",
         "type": "scatter",
         "visible": true,
         "x": [
          "2024-10-01T00:00:00",
          "2025-01-01T00:00:00"
         ],
         "y": [
          -0.11,
          -0.11
         ]
        },
        {
         "hovertemplate": "<b>Logistics</b><br><b>Event:</b> Milestone<br><b>Phase:</b> Semantic interoperability framework\n<br><extra></extra>",
         "line": {
          "color": "#58DDAF",
          "shape": "linear",
          "width": 12
         },
         "mode": "lines+text",
         "name": "Milestone",
         "showlegend": false,
         "text": [
          "Common shared ontology baseline"
         ],
         "textfont": {
          "color": "#273043",
          "family": "Montserrat, Arial",
          "size": 8
         },
         "textposition": "middle center",
         "type": "scatter",
         "visible": true,
         "x": [
          "2024-10-01T00:00:00",
          "2025-02-01T00:00:00"
         ],
         "y": [
          1.0899999999999999,
          1.0899999999999999
         ]
        },
        {
         "hovertemplate": "<b>Logistics</b><br><b>Event:</b> Target<br><b>Phase:</b> Strategic Service development<br><extra></extra>",
         "line": {
          "color": "#729BFF",
          "shape": "linear",
          "width": 12
         },
         "mode": "lines+text",
         "name": "Target",
         "showlegend": false,
         "text": [
          "Demo strategy service"
         ],
         "textfont": {
          "color": "#273043",
          "family": "Montserrat, Arial",
          "size": 8
         },
         "textposition": "middle center",
         "type": "scatter",
         "visible": true,
         "x": [
          "2024-10-01T00:00:00",
          "2025-02-01T00:00:00"
         ],
         "y": [
          1.31,
          1.31
         ]
        },
        {
         "hovertemplate": "<b>Data economy</b><br><b>Event:</b> Milestone<br><b>Phase:</b> Data Space connector (DSC) development<br><extra></extra>",
         "line": {
          "color": "#58DDAF",
          "shape": "linear",
          "width": 12
         },
         "mode": "lines+text",
         "name": "Milestone",
         "showlegend": false,
         "text": [
          "Basic deployment\nNew DSC modules and architecture definition "
         ],
         "textfont": {
          "color": "#273043",
          "family": "Montserrat, Arial",
          "size": 8
         },
         "textposition": "middle center",
         "type": "scatter",
         "visible": true,
         "x": [
          "2024-10-01T00:00:00",
          "2025-02-01T00:00:00"
         ],
         "y": [
          2.4,
          2.4
         ]
        },
        {
         "hovertemplate": "<b>User engagement</b><br><b>Event:</b> Target<br><b>Phase:</b> Lead markets approach<br><b>Engagement Action:</b> emails, messaging, calls, congress (WUWM Rimini 29/10-1/11, Berlin Fruitlogistica 5-7/02), in person meetings, on-field visits (Berlin 10/12)<br><extra></extra>",
         "line": {
          "color": "#729BFF",
          "shape": "linear",
          "width": 12
         },
         "mode": "lines+text",
         "name": "Target",
         "showlegend": false,
         "text": [
          "Fine-tune mapping"
         ],
         "textfont": {
          "color": "#273043",
          "family": "Montserrat, Arial",
          "size": 8
         },
         "textposition": "middle center",
         "type": "scatter",
         "visible": true,
         "x": [
          "2024-10-01T00:00:00",
          "2025-02-01T00:00:00"
         ],
         "y": [
          -0.77,
          -0.77
         ]
        },
        {
         "hovertemplate": "<b>User engagement</b><br><b>Event:</b> Milestone<br><b>Phase:</b> Lead markets approach<br><extra></extra>",
         "line": {
          "color": "#58DDAF",
          "shape": "linear",
          "width": 12
         },
         "mode": "lines+text",
         "name": "Milestone",
         "showlegend": false,
         "text": [
          "Bologna, Châteaurenard, Berlin, Lviv, Poznan, Tychy, Barcelona, Madrid"
         ],
         "textfont": {
          "color": "#273043",
          "family": "Montserrat, Arial",
          "size": 8
         },
         "textposition": "middle center",
         "type": "scatter",
         "visible": true,
         "x": [
          "2024-10-01T00:00:00",
          "2025-02-01T00:00:00"
         ],
         "y": [
          -0.55,
          -0.55
         ]
        },
        {
         "hovertemplate": "<b>User engagement</b><br><b>Event:</b> Barrier<br><b>Phase:</b> Lead markets approach<br><extra></extra>",
         "line": {
          "color": "#FF857F",
          "shape": "linear",
          "width": 12
         },
         "mode": "lines+text",
         "name": "Barrier",
         "showlegend": false,
         "text": [
          "Lack of time and experience on innovation "
         ],
         "textfont": {
          "color": "#273043",
          "family": "Montserrat, Arial",
          "size": 8
         },
         "textposition": "middle center",
         "type": "scatter",
         "visible": true,
         "x": [
          "2024-10-01T00:00:00",
          "2025-02-01T00:00:00"
         ],
         "y": [
          -0.33,
          -0.33
         ]
        },
        {
         "hovertemplate": "<b>User engagement</b><br><b>Event:</b> Target<br><b>Phase:</b> wholesalers mapping<br><b>Engagement Action:</b> on-site meetings<br><extra></extra>",
         "line": {
          "color": "#729BFF",
          "shape": "linear",
          "width": 12
         },
         "mode": "lines+text",
         "name": "Target",
         "showlegend": false,
         "text": [
          "profiling, interest alignment"
         ],
         "textfont": {
          "color": "#273043",
          "family": "Montserrat, Arial",
          "size": 8
         },
         "textposition": "middle center",
         "type": "scatter",
         "visible": true,
         "x": [
          "2024-11-01T00:00:00",
          "2025-01-01T00:00:00"
         ],
         "y": [
          0.11,
          0.11
         ]
        },
        {
         "hovertemplate": "<b>User engagement</b><br><b>Event:</b> Milestone<br><b>Phase:</b> wholesalers mapping<br><extra></extra>",
         "line": {
          "color": "#58DDAF",
          "shape": "linear",
          "width": 12
         },
         "mode": "lines+text",
         "name": "Milestone",
         "showlegend": false,
         "text": [
          "3 main profiles, 2 early adopters, 5 potential testing scenarios"
         ],
         "textfont": {
          "color": "#273043",
          "family": "Montserrat, Arial",
          "size": 8
         },
         "textposition": "middle center",
         "type": "scatter",
         "visible": true,
         "x": [
          "2024-11-01T00:00:00",
          "2025-01-01T00:00:00"
         ],
         "y": [
          0.33,
          0.33
         ]
        },
        {
         "hovertemplate": "<b>User engagement</b><br><b>Event:</b> Barrier<br><b>Phase:</b> wholesalers mapping<br><extra></extra>",
         "line": {
          "color": "#FF857F",
          "shape": "linear",
          "width": 12
         },
         "mode": "lines+text",
         "name": "Barrier",
         "showlegend": false,
         "text": [
          "Dynamic day-to-day agendas"
         ],
         "textfont": {
          "color": "#273043",
          "family": "Montserrat, Arial",
          "size": 8
         },
         "textposition": "middle center",
         "type": "scatter",
         "visible": true,
         "x": [
          "2024-11-01T00:00:00",
          "2025-01-01T00:00:00"
         ],
         "y": [
          0.55,
          0.55
         ]
        },
        {
         "hovertemplate": "<b>Logistics</b><br><b>Event:</b> Milestone<br><b>Phase:</b> Strategic Service development<br><extra></extra>",
         "line": {
          "color": "#58DDAF",
          "shape": "linear",
          "width": 12
         },
         "mode": "lines+text",
         "name": "Milestone",
         "showlegend": false,
         "text": [
          "First demo data set, GUI demo v.0"
         ],
         "textfont": {
          "color": "#273043",
          "family": "Montserrat, Arial",
          "size": 8
         },
         "textposition": "middle center",
         "type": "scatter",
         "visible": true,
         "x": [
          "2024-11-01T00:00:00",
          "2025-01-01T00:00:00"
         ],
         "y": [
          1.2,
          1.2
         ]
        },
        {
         "hovertemplate": "<b>Data economy</b><br><b>Event:</b> Target<br><b>Phase:</b> Data Space connector (DSC) development<br><extra></extra>",
         "line": {
          "color": "#729BFF",
          "shape": "linear",
          "width": 12
         },
         "mode": "lines+text",
         "name": "Target",
         "showlegend": false,
         "text": [
          "Validate business processes mapping and action points\nAssess willigness to Collaborate, to Data-sharing (with service and others), and Trust factors"
         ],
         "textfont": {
          "color": "#273043",
          "family": "Montserrat, Arial",
          "size": 8
         },
         "textposition": "middle center",
         "type": "scatter",
         "visible": true,
         "x": [
          "2024-11-01T00:00:00",
          "2025-01-01T00:00:00"
         ],
         "y": [
          2.29,
          2.29
         ]
        },
        {
         "hovertemplate": "<b>Data economy</b><br><b>Event:</b> Milestone<br><b>Phase:</b> Data Space connector (DSC) development<br><extra></extra>",
         "line": {
          "color": "#58DDAF",
          "shape": "linear",
          "width": 12
         },
         "mode": "lines+text",
         "name": "Milestone",
         "showlegend": false,
         "text": [
          "Policies & Trust Baselines"
         ],
         "textfont": {
          "color": "#273043",
          "family": "Montserrat, Arial",
          "size": 8
         },
         "textposition": "middle center",
         "type": "scatter",
         "visible": true,
         "x": [
          "2024-11-01T00:00:00",
          "2025-01-01T00:00:00"
         ],
         "y": [
          2.51,
          2.51
         ]
        },
        {
         "hovertemplate": "<b>User engagement</b><br><b>Event:</b> Target<br><b>Phase:</b> user-centric service design<br><b>Engagement Action:</b> on-site/on-line sessions<br><extra></extra>",
         "line": {
          "color": "#729BFF",
          "shape": "linear",
          "width": 12
         },
         "mode": "lines+text",
         "name": "Target",
         "showlegend": false,
         "text": [
          "feed design of GUI for strategic analysis and service policies including business value hypothesis; define setup for collaboration and data sharing; feed policies' GUI and smart contracts logic for taking decisions based on data value awareness securing trust"
         ],
         "textfont": {
          "color": "#273043",
          "family": "Montserrat, Arial",
          "size": 8
         },
         "textposition": "middle center",
         "type": "scatter",
         "visible": true,
         "x": [
          "2024-12-01T00:00:00",
          "2025-03-01T00:00:00"
         ],
         "y": [
          -0.11,
          -0.11
         ]
        },
        {
         "hovertemplate": "<b>User engagement</b><br><b>Event:</b> Milestone<br><b>Phase:</b> user-centric service design<br><extra></extra>",
         "line": {
          "color": "#58DDAF",
          "shape": "linear",
          "width": 12
         },
         "mode": "lines+text",
         "name": "Milestone",
         "showlegend": false,
         "text": [
          "MVP testing scenarios and balanced product roadmap\n1. Prioritise operations over strategy for the product\n2. Data-based consultancy in parallel to development\n3. Product development: analytics for decision making, processes' convenience\n4. Commercial development strategy (diversification & institutional integration)"
         ],
         "textfont": {
          "color": "#273043",
          "family": "Montserrat, Arial",
          "size": 8
         },
         "textposition": "middle center",
         "type": "scatter",
         "visible": true,
         "x": [
          "2024-12-01T00:00:00",
          "2025-06-01T00:00:00"
         ],
         "y": [
          -0.77,
          -0.77
         ]
        },
        {
         "hovertemplate": "<b>User engagement</b><br><b>Event:</b> Barrier<br><b>Phase:</b> user-centric service design<br><extra></extra>",
         "line": {
          "color": "#FF857F",
          "shape": "linear",
          "width": 12
         },
         "mode": "lines+text",
         "name": "Barrier",
         "showlegend": false,
         "text": [
          "Last minute chaning daily agendas"
         ],
         "textfont": {
          "color": "#273043",
          "family": "Montserrat, Arial",
          "size": 8
         },
         "textposition": "middle center",
         "type": "scatter",
         "visible": true,
         "x": [
          "2024-12-01T00:00:00",
          "2025-03-01T00:00:00"
         ],
         "y": [
          0.11,
          0.11
         ]
        },
        {
         "hovertemplate": "<b>Logistics</b><br><b>Event:</b> Target<br><b>Phase:</b> user-centric service design<br><extra></extra>",
         "line": {
          "color": "#729BFF",
          "shape": "linear",
          "width": 12
         },
         "mode": "lines+text",
         "name": "Target",
         "showlegend": false,
         "text": [
          "GUI development"
         ],
         "textfont": {
          "color": "#273043",
          "family": "Montserrat, Arial",
          "size": 8
         },
         "textposition": "middle center",
         "type": "scatter",
         "visible": true,
         "x": [
          "2024-12-01T00:00:00",
          "2025-03-01T00:00:00"
         ],
         "y": [
          1.0899999999999999,
          1.0899999999999999
         ]
        },
        {
         "hovertemplate": "<b>Logistics</b><br><b>Event:</b> Milestone<br><b>Phase:</b> user-centric service design<br><extra></extra>",
         "line": {
          "color": "#58DDAF",
          "shape": "linear",
          "width": 12
         },
         "mode": "lines+text",
         "name": "Milestone",
         "showlegend": false,
         "text": [
          "GUI demo v.0.1"
         ],
         "textfont": {
          "color": "#273043",
          "family": "Montserrat, Arial",
          "size": 8
         },
         "textposition": "middle center",
         "type": "scatter",
         "visible": true,
         "x": [
          "2024-12-01T00:00:00",
          "2025-03-01T00:00:00"
         ],
         "y": [
          1.31,
          1.31
         ]
        },
        {
         "hovertemplate": "<b>Data economy</b><br><b>Event:</b> Target<br><b>Phase:</b> user-centric service design<br><extra></extra>",
         "line": {
          "color": "#729BFF",
          "shape": "linear",
          "width": 12
         },
         "mode": "lines+text",
         "name": "Target",
         "showlegend": false,
         "text": [
          "Policy Module development: content & technical integration"
         ],
         "textfont": {
          "color": "#273043",
          "family": "Montserrat, Arial",
          "size": 8
         },
         "textposition": "middle center",
         "type": "scatter",
         "visible": true,
         "x": [
          "2024-12-01T00:00:00",
          "2025-05-01T00:00:00"
         ],
         "y": [
          2.29,
          2.29
         ]
        },
        {
         "hovertemplate": "<b>Logistics</b><br><b>Event:</b> Target<br><b>Phase:</b> user-centric service design<br><extra></extra>",
         "line": {
          "color": "#729BFF",
          "shape": "linear",
          "width": 12
         },
         "mode": "lines+text",
         "name": "Target",
         "showlegend": false,
         "text": [
          "Service integration in Data Space"
         ],
         "textfont": {
          "color": "#273043",
          "family": "Montserrat, Arial",
          "size": 8
         },
         "textposition": "middle center",
         "type": "scatter",
         "visible": true,
         "x": [
          "2024-12-01T00:00:00",
          "2025-05-01T00:00:00"
         ],
         "y": [
          1.0899999999999999,
          1.0899999999999999
         ]
        },
        {
         "hovertemplate": "<b>Data economy</b><br><b>Event:</b> Milestone<br><b>Phase:</b> user-centric service design<br><extra></extra>",
         "line": {
          "color": "#58DDAF",
          "shape": "linear",
          "width": 12
         },
         "mode": "lines+text",
         "name": "Milestone",
         "showlegend": false,
         "text": [
          "Service data-model dependant Terms & conditions, Policies and Smart Contracts"
         ],
         "textfont": {
          "color": "#273043",
          "family": "Montserrat, Arial",
          "size": 8
         },
         "textposition": "middle center",
         "type": "scatter",
         "visible": true,
         "x": [
          "2024-12-01T00:00:00",
          "2025-03-01T00:00:00"
         ],
         "y": [
          2.4,
          2.4
         ]
        },
        {
         "hovertemplate": "<b>User engagement</b><br><b>Event:</b> Target<br><b>Phase:</b> user-centric testing scenarios design & service-desing feed back<br><b>Engagement Action:</b> On-site sessions supported by strategic GUI with merchants - meat zaragoza, fish Zaragoza, fish madrid, fruits & vegetables Madrid - and markets - fruits & vegetables Berlin & Bologna<br><extra></extra>",
         "line": {
          "color": "#729BFF",
          "shape": "linear",
          "width": 12
         },
         "mode": "lines+text",
         "name": "Target",
         "showlegend": false,
         "text": [
          "Feed use cases definition and business assumptions about value perception and readiness to collaborate - between distributors and between wholesalers"
         ],
         "textfont": {
          "color": "#273043",
          "family": "Montserrat, Arial",
          "size": 8
         },
         "textposition": "middle center",
         "type": "scatter",
         "visible": true,
         "x": [
          "2025-03-01T00:00:00",
          "2025-05-01T00:00:00"
         ],
         "y": [
          -0.44,
          -0.44
         ]
        },
        {
         "hovertemplate": "<b>User engagement</b><br><b>Event:</b> Barrier<br><b>Phase:</b> user-centric testing scenarios design & service-desing feed back<br><extra></extra>",
         "line": {
          "color": "#FF857F",
          "shape": "linear",
          "width": 12
         },
         "mode": "lines+text",
         "name": "Barrier",
         "showlegend": false,
         "text": [
          "Lack of time for analysis sessions"
         ],
         "textfont": {
          "color": "#273043",
          "family": "Montserrat, Arial",
          "size": 8
         },
         "textposition": "middle center",
         "type": "scatter",
         "visible": true,
         "x": [
          "2025-03-01T00:00:00",
          "2025-05-01T00:00:00"
         ],
         "y": [
          -0.22,
          -0.22
         ]
        },
        {
         "hovertemplate": "<b>Logistics</b><br><b>Event:</b> Target<br><b>Phase:</b> user-centric testing scenarios design & service-desing feed back<br><extra></extra>",
         "line": {
          "color": "#729BFF",
          "shape": "linear",
          "width": 12
         },
         "mode": "lines+text",
         "name": "Target",
         "showlegend": false,
         "text": [
          "MVP pivoting - real-time operation focus with new AI commercial agent\nService data model update | NGSI-LD standard adoption"
         ],
         "textfont": {
          "color": "#273043",
          "family": "Montserrat, Arial",
          "size": 8
         },
         "textposition": "middle center",
         "type": "scatter",
         "visible": true,
         "x": [
          "2025-03-01T00:00:00",
          "2025-05-01T00:00:00"
         ],
         "y": [
          1.31,
          1.31
         ]
        },
        {
         "hovertemplate": "<b>Data economy</b><br><b>Event:</b> Milestone<br><b>Phase:</b> user-centric testing scenarios design & service-desing feed back<br><extra></extra>",
         "line": {
          "color": "#58DDAF",
          "shape": "linear",
          "width": 12
         },
         "mode": "lines+text",
         "name": "Milestone",
         "showlegend": false,
         "text": [
          "New FDSC MVP"
         ],
         "textfont": {
          "color": "#273043",
          "family": "Montserrat, Arial",
          "size": 8
         },
         "textposition": "middle center",
         "type": "scatter",
         "visible": true,
         "x": [
          "2025-03-01T00:00:00",
          "2025-05-01T00:00:00"
         ],
         "y": [
          2.51,
          2.51
         ]
        },
        {
         "hovertemplate": "<b>User engagement</b><br><b>Event:</b> Target<br><b>Phase:</b> wholesalers on-boarding & desing feed back<br><b>Engagement Action:</b> On-site meetings, emails, messaging<br><extra></extra>",
         "line": {
          "color": "#729BFF",
          "shape": "linear",
          "width": 12
         },
         "mode": "lines+text",
         "name": "Target",
         "showlegend": false,
         "text": [
          "Validate engagement trigger (immediate time saving and income rise)"
         ],
         "textfont": {
          "color": "#273043",
          "family": "Montserrat, Arial",
          "size": 8
         },
         "textposition": "middle center",
         "type": "scatter",
         "visible": true,
         "x": [
          "2025-04-01T00:00:00",
          "2025-06-01T00:00:00"
         ],
         "y": [
          -0.55,
          -0.55
         ]
        },
        {
         "hovertemplate": "<b>User engagement</b><br><b>Event:</b> Barrier<br><b>Phase:</b> wholesalers on-boarding & desing feed back<br><extra></extra>",
         "line": {
          "color": "#FF857F",
          "shape": "linear",
          "width": 12
         },
         "mode": "lines+text",
         "name": "Barrier",
         "showlegend": false,
         "text": [
          "Lack of time to assess potential and allocate resources to it --> free time quick with lowest resources\nLack of trust by default (with little time to listen) --> need quick on-field (not on screen) evidence"
         ],
         "textfont": {
          "color": "#273043",
          "family": "Montserrat, Arial",
          "size": 8
         },
         "textposition": "middle center",
         "type": "scatter",
         "visible": true,
         "x": [
          "2025-04-01T00:00:00",
          "2025-06-01T00:00:00"
         ],
         "y": [
          -0.33,
          -0.33
         ]
        },
        {
         "hovertemplate": "<b>Logistics</b><br><b>Event:</b> Target<br><b>Phase:</b> wholesalers on-boarding & desing feed back<br><extra></extra>",
         "line": {
          "color": "#729BFF",
          "shape": "linear",
          "width": 12
         },
         "mode": "lines+text",
         "name": "Target",
         "showlegend": false,
         "text": [
          "Second demo data set\nService's NGSI-LD API\nService MVP"
         ],
         "textfont": {
          "color": "#273043",
          "family": "Montserrat, Arial",
          "size": 8
         },
         "textposition": "middle center",
         "type": "scatter",
         "visible": true,
         "x": [
          "2025-04-01T00:00:00",
          "2025-06-01T00:00:00"
         ],
         "y": [
          1.2,
          1.2
         ]
        },
        {
         "hovertemplate": "<b>Data economy</b><br><b>Event:</b> Target<br><b>Phase:</b> wholesalers on-boarding & desing feed back<br><extra></extra>",
         "line": {
          "color": "#729BFF",
          "shape": "linear",
          "width": 12
         },
         "mode": "lines+text",
         "name": "Target",
         "showlegend": false,
         "text": [
          "Use cases' modules customization (policies, interafeces, smart contracts)"
         ],
         "textfont": {
          "color": "#273043",
          "family": "Montserrat, Arial",
          "size": 8
         },
         "textposition": "middle center",
         "type": "scatter",
         "visible": true,
         "x": [
          "2025-04-01T00:00:00",
          "2025-06-01T00:00:00"
         ],
         "y": [
          2.4,
          2.4
         ]
        },
        {
         "hovertemplate": "<b>User engagement</b><br><b>Event:</b> Target<br><b>Phase:</b> pilot & feed back<br><extra></extra>",
         "line": {
          "color": "#729BFF",
          "shape": "linear",
          "width": 12
         },
         "mode": "lines+text",
         "name": "Target",
         "showlegend": false,
         "text": [
          "Scenario 1 - distribution service offer setup"
         ],
         "textfont": {
          "color": "#273043",
          "family": "Montserrat, Arial",
          "size": 8
         },
         "textposition": "middle center",
         "type": "scatter",
         "visible": true,
         "x": [
          "2025-06-01T00:00:00",
          "2025-09-01T00:00:00"
         ],
         "y": [
          -0.11,
          -0.11
         ]
        },
        {
         "hovertemplate": "<b>User engagement</b><br><b>Event:</b> Barrier<br><b>Phase:</b> pilot & feed back<br><extra></extra>",
         "line": {
          "color": "#FF857F",
          "shape": "linear",
          "width": 12
         },
         "mode": "lines+text",
         "name": "Barrier",
         "showlegend": false,
         "text": [
          "summer holidays"
         ],
         "textfont": {
          "color": "#273043",
          "family": "Montserrat, Arial",
          "size": 8
         },
         "textposition": "middle center",
         "type": "scatter",
         "visible": true,
         "x": [
          "2025-06-01T00:00:00",
          "2025-09-01T00:00:00"
         ],
         "y": [
          0.11,
          0.11
         ]
        },
        {
         "hovertemplate": "<b>Logistics</b><br><b>Event:</b> Target<br><b>Phase:</b> pilot & feed back<br><extra></extra>",
         "line": {
          "color": "#729BFF",
          "shape": "linear",
          "width": 12
         },
         "mode": "lines+text",
         "name": "Target",
         "showlegend": false,
         "text": [
          "Strategy service refinement - more data sets"
         ],
         "textfont": {
          "color": "#273043",
          "family": "Montserrat, Arial",
          "size": 8
         },
         "textposition": "middle center",
         "type": "scatter",
         "visible": true,
         "x": [
          "2025-06-01T00:00:00",
          "2025-09-01T00:00:00"
         ],
         "y": [
          1.2,
          1.2
         ]
        },
        {
         "hovertemplate": "<b>Data economy</b><br><b>Event:</b> Target<br><b>Phase:</b> pilot & feed back<br><extra></extra>",
         "line": {
          "color": "#729BFF",
          "shape": "linear",
          "width": 12
         },
         "mode": "lines+text",
         "name": "Target",
         "showlegend": false,
         "text": [
          "FDSC improvements design\n- Services contracting: Marketplace pluggings to customize policies, SLAs, multi-chain logging logics\n- Admin portal to monitor DSC state (e.g. multichain logs)"
         ],
         "textfont": {
          "color": "#273043",
          "family": "Montserrat, Arial",
          "size": 8
         },
         "textposition": "middle center",
         "type": "scatter",
         "visible": true,
         "x": [
          "2025-06-01T00:00:00",
          "2025-09-01T00:00:00"
         ],
         "y": [
          2.4,
          2.4
         ]
        },
        {
         "hovertemplate": "<b>User engagement</b><br><b>Event:</b> Target<br><b>Phase:</b> Lobby<br><b>Engagement Action:</b> emails, calls<br><extra></extra>",
         "line": {
          "color": "#729BFF",
          "shape": "linear",
          "width": 12
         },
         "mode": "lines+text",
         "name": "Target",
         "showlegend": false,
         "text": [
          "EU decision-makers mapping, alignment and engagement"
         ],
         "textfont": {
          "color": "#273043",
          "family": "Montserrat, Arial",
          "size": 8
         },
         "textposition": "middle center",
         "type": "scatter",
         "visible": true,
         "x": [
          "2024-12-01T00:00:00",
          "2025-02-01T00:00:00"
         ],
         "y": [
          -0.11,
          -0.11
         ]
        },
        {
         "hovertemplate": "<b>User engagement</b><br><b>Event:</b> Milestone<br><b>Phase:</b> Lobby<br><extra></extra>",
         "line": {
          "color": "#58DDAF",
          "shape": "linear",
          "width": 12
         },
         "mode": "lines+text",
         "name": "Milestone",
         "showlegend": false,
         "text": [
          "Brussels EP mission"
         ],
         "textfont": {
          "color": "#273043",
          "family": "Montserrat, Arial",
          "size": 8
         },
         "textposition": "middle center",
         "type": "scatter",
         "visible": true,
         "x": [
          "2024-02-12T00:00:00",
          "2024-04-12T00:00:00"
         ],
         "y": [
          0,
          0
         ]
        },
        {
         "hovertemplate": "<b>User engagement</b><br><b>Event:</b> Milestone<br><b>Phase:</b> Lobby<br><extra></extra>",
         "line": {
          "color": "#58DDAF",
          "shape": "linear",
          "width": 12
         },
         "mode": "lines+text",
         "name": "Milestone",
         "showlegend": false,
         "text": [
          "Fresh on Track Berlin's high level meeting"
         ],
         "textfont": {
          "color": "#273043",
          "family": "Montserrat, Arial",
          "size": 8
         },
         "textposition": "middle center",
         "type": "scatter",
         "visible": true,
         "x": [
          "2025-05-02T00:00:00",
          "2025-07-02T00:00:00"
         ],
         "y": [
          0,
          0
         ]
        },
        {
         "hovertemplate": "<b>User engagement</b><br><b>Event:</b> Barrier<br><b>Phase:</b> Lobby<br><extra></extra>",
         "line": {
          "color": "#FF857F",
          "shape": "linear",
          "width": 12
         },
         "mode": "lines+text",
         "name": "Barrier",
         "showlegend": false,
         "text": [
          "Lack of visual support with data-based impact from operation"
         ],
         "textfont": {
          "color": "#273043",
          "family": "Montserrat, Arial",
          "size": 8
         },
         "textposition": "middle center",
         "type": "scatter",
         "visible": true,
         "x": [
          "2024-12-01T00:00:00",
          "2025-02-01T00:00:00"
         ],
         "y": [
          0.11,
          0.11
         ]
        },
        {
         "hovertemplate": "<b>User engagement</b><br><b>Event:</b> target<br><b>Phase:</b> Strategic Position<br><extra></extra>",
         "line": {
          "color": "#A0AEC0",
          "shape": "linear",
          "width": 12
         },
         "mode": "lines+text",
         "name": "target",
         "showlegend": false,
         "text": [
          "Engagement and alignment with local administrations (cities, regions, states)"
         ],
         "textfont": {
          "color": "#273043",
          "family": "Montserrat, Arial",
          "size": 8
         },
         "textposition": "middle center",
         "type": "scatter",
         "visible": true,
         "x": [
          "2024-12-01T00:00:00",
          "2025-02-01T00:00:00"
         ],
         "y": [
          0.33,
          0.33
         ]
        },
        {
         "hovertemplate": "<b>User engagement</b><br><b>Event:</b> Milestone<br><b>Phase:</b> Strategic Position<br><extra></extra>",
         "line": {
          "color": "#58DDAF",
          "shape": "linear",
          "width": 12
         },
         "mode": "lines+text",
         "name": "Milestone",
         "showlegend": false,
         "text": [
          "High Level brief"
         ],
         "textfont": {
          "color": "#273043",
          "family": "Montserrat, Arial",
          "size": 8
         },
         "textposition": "middle center",
         "type": "scatter",
         "visible": true,
         "x": [
          "2024-12-01T00:00:00",
          "2025-02-01T00:00:00"
         ],
         "y": [
          0.55,
          0.55
         ]
        },
        {
         "hovertemplate": "<b>User engagement</b><br><b>Event:</b> Barrier<br><b>Phase:</b> Strategic Position<br><extra></extra>",
         "line": {
          "color": "#FF857F",
          "shape": "linear",
          "width": 12
         },
         "mode": "lines+text",
         "name": "Barrier",
         "showlegend": false,
         "text": [
          "Decision-makers availability"
         ],
         "textfont": {
          "color": "#273043",
          "family": "Montserrat, Arial",
          "size": 8
         },
         "textposition": "middle center",
         "type": "scatter",
         "visible": true,
         "x": [
          "2024-12-01T00:00:00",
          "2025-02-01T00:00:00"
         ],
         "y": [
          0.77,
          0.77
         ]
        },
        {
         "hovertemplate": "<b>User engagement</b><br><b>Event:</b> Target<br><b>Phase:</b> Strategic Position<br><b>Engagement Action:</b> Position Paper writing, WUWM working group sessions<br><extra></extra>",
         "line": {
          "color": "#729BFF",
          "shape": "linear",
          "width": 12
         },
         "mode": "lines+text",
         "name": "Target",
         "showlegend": false,
         "text": [
          "Alignment with lead markets agendas"
         ],
         "textfont": {
          "color": "#273043",
          "family": "Montserrat, Arial",
          "size": 8
         },
         "textposition": "middle center",
         "type": "scatter",
         "visible": true,
         "x": [
          "2024-12-01T00:00:00",
          "2025-05-01T00:00:00"
         ],
         "y": [
          0,
          0
         ]
        },
        {
         "hovertemplate": "<b>User engagement</b><br><b>Event:</b> Milestone<br><b>Phase:</b> Strategic Position<br><extra></extra>",
         "line": {
          "color": "#58DDAF",
          "shape": "linear",
          "width": 12
         },
         "mode": "lines+text",
         "name": "Milestone",
         "showlegend": false,
         "text": [
          "Position Paper release, link with IFAD, FAO endorsement"
         ],
         "textfont": {
          "color": "#273043",
          "family": "Montserrat, Arial",
          "size": 8
         },
         "textposition": "middle center",
         "type": "scatter",
         "visible": true,
         "x": [
          "2024-12-01T00:00:00",
          "2025-05-01T00:00:00"
         ],
         "y": [
          0.22,
          0.22
         ]
        },
        {
         "hovertemplate": "<b>User engagement</b><br><b>Event:</b> Barrier<br><b>Phase:</b> Strategic Position<br><extra></extra>",
         "line": {
          "color": "#FF857F",
          "shape": "linear",
          "width": 12
         },
         "mode": "lines+text",
         "name": "Barrier",
         "showlegend": false,
         "text": [
          "Decision-makers agendas and narrow availability"
         ],
         "textfont": {
          "color": "#273043",
          "family": "Montserrat, Arial",
          "size": 8
         },
         "textposition": "middle center",
         "type": "scatter",
         "visible": true,
         "x": [
          "2024-12-01T00:00:00",
          "2025-05-01T00:00:00"
         ],
         "y": [
          0.44,
          0.44
         ]
        },
        {
         "hovertemplate": "<b>User engagement</b><br><b>Event:</b> Target<br><b>Phase:</b> Markets on-field visits<br><b>Engagement Action:</b> Local on-boarding strategy<br><extra></extra>",
         "line": {
          "color": "#729BFF",
          "shape": "linear",
          "width": 12
         },
         "mode": "lines+text",
         "name": "Target",
         "showlegend": false,
         "text": [
          "Châteaurenard 1"
         ],
         "textfont": {
          "color": "#273043",
          "family": "Montserrat, Arial",
          "size": 8
         },
         "textposition": "middle center",
         "type": "scatter",
         "visible": true,
         "x": [
          "2025-03-24T00:00:00",
          "2025-03-25T00:00:00"
         ],
         "y": [
          0,
          0
         ]
        },
        {
         "hovertemplate": "<b>User engagement</b><br><b>Event:</b> Target<br><b>Phase:</b> Markets on-field visits<br><b>Engagement Action:</b> Local on-boarding strategy<br><extra></extra>",
         "line": {
          "color": "#729BFF",
          "shape": "linear",
          "width": 12
         },
         "mode": "lines+text",
         "name": "Target",
         "showlegend": false,
         "text": [
          "Bologna"
         ],
         "textfont": {
          "color": "#273043",
          "family": "Montserrat, Arial",
          "size": 8
         },
         "textposition": "middle center",
         "type": "scatter",
         "visible": true,
         "x": [
          "2025-05-05T00:00:00",
          "2025-07-05T00:00:00"
         ],
         "y": [
          0,
          0
         ]
        },
        {
         "hovertemplate": "<b>User engagement</b><br><b>Event:</b> Target<br><b>Phase:</b> Markets on-field visits<br><b>Engagement Action:</b> Local on-boarding strategy<br><extra></extra>",
         "line": {
          "color": "#729BFF",
          "shape": "linear",
          "width": 12
         },
         "mode": "lines+text",
         "name": "Target",
         "showlegend": false,
         "text": [
          "Châteaurenard 2"
         ],
         "textfont": {
          "color": "#273043",
          "family": "Montserrat, Arial",
          "size": 8
         },
         "textposition": "middle center",
         "type": "scatter",
         "visible": true,
         "x": [
          "2025-05-30T00:00:00",
          "2025-02-06T00:00:00"
         ],
         "y": [
          0,
          0
         ]
        },
        {
         "hovertemplate": "<b>User engagement</b><br><b>Event:</b> Target<br><b>Phase:</b> Markets on-field visits<br><b>Engagement Action:</b> Follow up with local administration<br><extra></extra>",
         "line": {
          "color": "#729BFF",
          "shape": "linear",
          "width": 12
         },
         "mode": "lines+text",
         "name": "Target",
         "showlegend": false,
         "text": [
          "Zaragoza TMZ"
         ],
         "textfont": {
          "color": "#273043",
          "family": "Montserrat, Arial",
          "size": 8
         },
         "textposition": "middle center",
         "type": "scatter",
         "visible": true,
         "x": [
          "2025-05-22T00:00:00",
          "2025-05-22T00:00:00"
         ],
         "y": [
          0,
          0
         ]
        },
        {
         "hovertemplate": "<b>User engagement</b><br><b>Event:</b> Target<br><b>Phase:</b> Markets on-field visits<br><b>Engagement Action:</b> Local on-boarding strategy<br><extra></extra>",
         "line": {
          "color": "#729BFF",
          "shape": "linear",
          "width": 12
         },
         "mode": "lines+text",
         "name": "Target",
         "showlegend": false,
         "text": [
          "Madrid new association"
         ],
         "textfont": {
          "color": "#273043",
          "family": "Montserrat, Arial",
          "size": 8
         },
         "textposition": "middle center",
         "type": "scatter",
         "visible": true,
         "x": [
          "2025-03-06T00:00:00",
          "2025-04-06T00:00:00"
         ],
         "y": [
          0,
          0
         ]
        },
        {
         "hovertemplate": "<b>User engagement</b><br><b>Event:</b> Milestone<br><b>Phase:</b> Markets on-field visits<br><extra></extra>",
         "line": {
          "color": "#58DDAF",
          "shape": "linear",
          "width": 12
         },
         "mode": "lines+text",
         "name": "Milestone",
         "showlegend": false,
         "text": [
          "Châteaurenard, Bologna, Berlin joint road maps & offers\nNew target market (Madrid)"
         ],
         "textfont": {
          "color": "#273043",
          "family": "Montserrat, Arial",
          "size": 8
         },
         "textposition": "middle center",
         "type": "scatter",
         "visible": true,
         "x": [
          "2025-03-01T00:00:00",
          "2025-06-01T00:00:00"
         ],
         "y": [
          -0.11,
          -0.11
         ]
        },
        {
         "hovertemplate": "<b>User engagement</b><br><b>Event:</b> Barrier<br><b>Phase:</b> Markets on-field visits<br><extra></extra>",
         "line": {
          "color": "#FF857F",
          "shape": "linear",
          "width": 12
         },
         "mode": "lines+text",
         "name": "Barrier",
         "showlegend": false,
         "text": [
          "Dynamic agendas with low availability\nLack of insights on supporting opportunities"
         ],
         "textfont": {
          "color": "#273043",
          "family": "Montserrat, Arial",
          "size": 8
         },
         "textposition": "middle center",
         "type": "scatter",
         "visible": true,
         "x": [
          "2025-03-01T00:00:00",
          "2025-06-01T00:00:00"
         ],
         "y": [
          0.11,
          0.11
         ]
        },
        {
         "hovertemplate": "<b>User engagement</b><br><b>Event:</b> Target<br><b>Phase:</b> Cities & Regions integration<br><b>Engagement Action:</b> On-site in person meetings<br><extra></extra>",
         "line": {
          "color": "#729BFF",
          "shape": "linear",
          "width": 12
         },
         "mode": "lines+text",
         "name": "Target",
         "showlegend": false,
         "text": [
          "Alignment with administrations agendas and institutional engagement"
         ],
         "textfont": {
          "color": "#273043",
          "family": "Montserrat, Arial",
          "size": 8
         },
         "textposition": "middle center",
         "type": "scatter",
         "visible": true,
         "x": [
          "2025-03-01T00:00:00",
          "2025-06-01T00:00:00"
         ],
         "y": [
          0.33,
          0.33
         ]
        },
        {
         "hovertemplate": "<b>User engagement</b><br><b>Event:</b> Milestone<br><b>Phase:</b> Cities & Regions integration<br><extra></extra>",
         "line": {
          "color": "#58DDAF",
          "shape": "linear",
          "width": 12
         },
         "mode": "lines+text",
         "name": "Milestone",
         "showlegend": false,
         "text": [
          "Provence region on-boarding\nMadrid city on-boarding\nComune & Emilia-Romagna on-boarding\nAvailable funding scenarios"
         ],
         "textfont": {
          "color": "#273043",
          "family": "Montserrat, Arial",
          "size": 8
         },
         "textposition": "middle center",
         "type": "scatter",
         "visible": true,
         "x": [
          "2025-03-01T00:00:00",
          "2025-06-01T00:00:00"
         ],
         "y": [
          0.55,
          0.55
         ]
        },
        {
         "hovertemplate": "<b>User engagement</b><br><b>Event:</b> Barrier<br><b>Phase:</b> Cities & Regions integration<br><extra></extra>",
         "line": {
          "color": "#FF857F",
          "shape": "linear",
          "width": 12
         },
         "mode": "lines+text",
         "name": "Barrier",
         "showlegend": false,
         "text": [
          "Slow interaction"
         ],
         "textfont": {
          "color": "#273043",
          "family": "Montserrat, Arial",
          "size": 8
         },
         "textposition": "middle center",
         "type": "scatter",
         "visible": true,
         "x": [
          "2025-03-01T00:00:00",
          "2025-06-01T00:00:00"
         ],
         "y": [
          0.77,
          0.77
         ]
        },
        {
         "hoverinfo": "none",
         "legendgroup": "Target",
         "marker": {
          "color": "#729BFF",
          "line": {
           "color": "#fff",
           "width": 2
          },
          "size": 15
         },
         "mode": "markers",
         "name": "Target",
         "showlegend": true,
         "type": "scatter",
         "visible": true,
         "x": [
          null
         ],
         "y": [
          null
         ]
        },
        {
         "hoverinfo": "none",
         "legendgroup": "Milestone",
         "marker": {
          "color": "#58DDAF",
          "line": {
           "color": "#fff",
           "width": 2
          },
          "size": 15
         },
         "mode": "markers",
         "name": "Milestone",
         "showlegend": true,
         "type": "scatter",
         "visible": true,
         "x": [
          null
         ],
         "y": [
          null
         ]
        },
        {
         "hoverinfo": "none",
         "legendgroup": "Barrier",
         "marker": {
          "color": "#FF857F",
          "line": {
           "color": "#fff",
           "width": 2
          },
          "size": 15
         },
         "mode": "markers",
         "name": "Barrier",
         "showlegend": true,
         "type": "scatter",
         "visible": true,
         "x": [
          null
         ],
         "y": [
          null
         ]
        }
       ],
       "layout": {
        "annotations": [
         {
          "font": {
           "color": "#273043",
           "family": "Montserrat, Arial",
           "size": 22
          },
          "showarrow": false,
          "text": "",
          "x": 0.5,
          "xanchor": "center",
          "xref": "paper",
          "y": 1.12,
          "yanchor": "top",
          "yref": "paper"
         }
        ],
        "font": {
         "color": "#273043",
         "family": "Montserrat, Arial"
        },
        "height": 650,
        "hoverlabel": {
         "bgcolor": "white",
         "font": {
          "family": "Montserrat",
          "size": 14
         }
        },
        "legend": {
         "font": {
          "size": 13
         },
         "orientation": "h",
         "title": {
          "text": "Event Type"
         },
         "x": 0.01,
         "xanchor": "left",
         "y": 1.18,
         "yanchor": "bottom"
        },
        "margin": {
         "b": 60,
         "l": 120,
         "r": 40,
         "t": 110
        },
        "paper_bgcolor": "#fff",
        "plot_bgcolor": "#fff",
        "template": {
         "data": {
          "bar": [
           {
            "error_x": {
             "color": "#2a3f5f"
            },
            "error_y": {
             "color": "#2a3f5f"
            },
            "marker": {
             "line": {
              "color": "#E5ECF6",
              "width": 0.5
             },
             "pattern": {
              "fillmode": "overlay",
              "size": 10,
              "solidity": 0.2
             }
            },
            "type": "bar"
           }
          ],
          "barpolar": [
           {
            "marker": {
             "line": {
              "color": "#E5ECF6",
              "width": 0.5
             },
             "pattern": {
              "fillmode": "overlay",
              "size": 10,
              "solidity": 0.2
             }
            },
            "type": "barpolar"
           }
          ],
          "carpet": [
           {
            "aaxis": {
             "endlinecolor": "#2a3f5f",
             "gridcolor": "white",
             "linecolor": "white",
             "minorgridcolor": "white",
             "startlinecolor": "#2a3f5f"
            },
            "baxis": {
             "endlinecolor": "#2a3f5f",
             "gridcolor": "white",
             "linecolor": "white",
             "minorgridcolor": "white",
             "startlinecolor": "#2a3f5f"
            },
            "type": "carpet"
           }
          ],
          "choropleth": [
           {
            "colorbar": {
             "outlinewidth": 0,
             "ticks": ""
            },
            "type": "choropleth"
           }
          ],
          "contour": [
           {
            "colorbar": {
             "outlinewidth": 0,
             "ticks": ""
            },
            "colorscale": [
             [
              0,
              "#0d0887"
             ],
             [
              0.1111111111111111,
              "#46039f"
             ],
             [
              0.2222222222222222,
              "#7201a8"
             ],
             [
              0.3333333333333333,
              "#9c179e"
             ],
             [
              0.4444444444444444,
              "#bd3786"
             ],
             [
              0.5555555555555556,
              "#d8576b"
             ],
             [
              0.6666666666666666,
              "#ed7953"
             ],
             [
              0.7777777777777778,
              "#fb9f3a"
             ],
             [
              0.8888888888888888,
              "#fdca26"
             ],
             [
              1,
              "#f0f921"
             ]
            ],
            "type": "contour"
           }
          ],
          "contourcarpet": [
           {
            "colorbar": {
             "outlinewidth": 0,
             "ticks": ""
            },
            "type": "contourcarpet"
           }
          ],
          "heatmap": [
           {
            "colorbar": {
             "outlinewidth": 0,
             "ticks": ""
            },
            "colorscale": [
             [
              0,
              "#0d0887"
             ],
             [
              0.1111111111111111,
              "#46039f"
             ],
             [
              0.2222222222222222,
              "#7201a8"
             ],
             [
              0.3333333333333333,
              "#9c179e"
             ],
             [
              0.4444444444444444,
              "#bd3786"
             ],
             [
              0.5555555555555556,
              "#d8576b"
             ],
             [
              0.6666666666666666,
              "#ed7953"
             ],
             [
              0.7777777777777778,
              "#fb9f3a"
             ],
             [
              0.8888888888888888,
              "#fdca26"
             ],
             [
              1,
              "#f0f921"
             ]
            ],
            "type": "heatmap"
           }
          ],
          "heatmapgl": [
           {
            "colorbar": {
             "outlinewidth": 0,
             "ticks": ""
            },
            "colorscale": [
             [
              0,
              "#0d0887"
             ],
             [
              0.1111111111111111,
              "#46039f"
             ],
             [
              0.2222222222222222,
              "#7201a8"
             ],
             [
              0.3333333333333333,
              "#9c179e"
             ],
             [
              0.4444444444444444,
              "#bd3786"
             ],
             [
              0.5555555555555556,
              "#d8576b"
             ],
             [
              0.6666666666666666,
              "#ed7953"
             ],
             [
              0.7777777777777778,
              "#fb9f3a"
             ],
             [
              0.8888888888888888,
              "#fdca26"
             ],
             [
              1,
              "#f0f921"
             ]
            ],
            "type": "heatmapgl"
           }
          ],
          "histogram": [
           {
            "marker": {
             "pattern": {
              "fillmode": "overlay",
              "size": 10,
              "solidity": 0.2
             }
            },
            "type": "histogram"
           }
          ],
          "histogram2d": [
           {
            "colorbar": {
             "outlinewidth": 0,
             "ticks": ""
            },
            "colorscale": [
             [
              0,
              "#0d0887"
             ],
             [
              0.1111111111111111,
              "#46039f"
             ],
             [
              0.2222222222222222,
              "#7201a8"
             ],
             [
              0.3333333333333333,
              "#9c179e"
             ],
             [
              0.4444444444444444,
              "#bd3786"
             ],
             [
              0.5555555555555556,
              "#d8576b"
             ],
             [
              0.6666666666666666,
              "#ed7953"
             ],
             [
              0.7777777777777778,
              "#fb9f3a"
             ],
             [
              0.8888888888888888,
              "#fdca26"
             ],
             [
              1,
              "#f0f921"
             ]
            ],
            "type": "histogram2d"
           }
          ],
          "histogram2dcontour": [
           {
            "colorbar": {
             "outlinewidth": 0,
             "ticks": ""
            },
            "colorscale": [
             [
              0,
              "#0d0887"
             ],
             [
              0.1111111111111111,
              "#46039f"
             ],
             [
              0.2222222222222222,
              "#7201a8"
             ],
             [
              0.3333333333333333,
              "#9c179e"
             ],
             [
              0.4444444444444444,
              "#bd3786"
             ],
             [
              0.5555555555555556,
              "#d8576b"
             ],
             [
              0.6666666666666666,
              "#ed7953"
             ],
             [
              0.7777777777777778,
              "#fb9f3a"
             ],
             [
              0.8888888888888888,
              "#fdca26"
             ],
             [
              1,
              "#f0f921"
             ]
            ],
            "type": "histogram2dcontour"
           }
          ],
          "mesh3d": [
           {
            "colorbar": {
             "outlinewidth": 0,
             "ticks": ""
            },
            "type": "mesh3d"
           }
          ],
          "parcoords": [
           {
            "line": {
             "colorbar": {
              "outlinewidth": 0,
              "ticks": ""
             }
            },
            "type": "parcoords"
           }
          ],
          "pie": [
           {
            "automargin": true,
            "type": "pie"
           }
          ],
          "scatter": [
           {
            "fillpattern": {
             "fillmode": "overlay",
             "size": 10,
             "solidity": 0.2
            },
            "type": "scatter"
           }
          ],
          "scatter3d": [
           {
            "line": {
             "colorbar": {
              "outlinewidth": 0,
              "ticks": ""
             }
            },
            "marker": {
             "colorbar": {
              "outlinewidth": 0,
              "ticks": ""
             }
            },
            "type": "scatter3d"
           }
          ],
          "scattercarpet": [
           {
            "marker": {
             "colorbar": {
              "outlinewidth": 0,
              "ticks": ""
             }
            },
            "type": "scattercarpet"
           }
          ],
          "scattergeo": [
           {
            "marker": {
             "colorbar": {
              "outlinewidth": 0,
              "ticks": ""
             }
            },
            "type": "scattergeo"
           }
          ],
          "scattergl": [
           {
            "marker": {
             "colorbar": {
              "outlinewidth": 0,
              "ticks": ""
             }
            },
            "type": "scattergl"
           }
          ],
          "scattermapbox": [
           {
            "marker": {
             "colorbar": {
              "outlinewidth": 0,
              "ticks": ""
             }
            },
            "type": "scattermapbox"
           }
          ],
          "scatterpolar": [
           {
            "marker": {
             "colorbar": {
              "outlinewidth": 0,
              "ticks": ""
             }
            },
            "type": "scatterpolar"
           }
          ],
          "scatterpolargl": [
           {
            "marker": {
             "colorbar": {
              "outlinewidth": 0,
              "ticks": ""
             }
            },
            "type": "scatterpolargl"
           }
          ],
          "scatterternary": [
           {
            "marker": {
             "colorbar": {
              "outlinewidth": 0,
              "ticks": ""
             }
            },
            "type": "scatterternary"
           }
          ],
          "surface": [
           {
            "colorbar": {
             "outlinewidth": 0,
             "ticks": ""
            },
            "colorscale": [
             [
              0,
              "#0d0887"
             ],
             [
              0.1111111111111111,
              "#46039f"
             ],
             [
              0.2222222222222222,
              "#7201a8"
             ],
             [
              0.3333333333333333,
              "#9c179e"
             ],
             [
              0.4444444444444444,
              "#bd3786"
             ],
             [
              0.5555555555555556,
              "#d8576b"
             ],
             [
              0.6666666666666666,
              "#ed7953"
             ],
             [
              0.7777777777777778,
              "#fb9f3a"
             ],
             [
              0.8888888888888888,
              "#fdca26"
             ],
             [
              1,
              "#f0f921"
             ]
            ],
            "type": "surface"
           }
          ],
          "table": [
           {
            "cells": {
             "fill": {
              "color": "#EBF0F8"
             },
             "line": {
              "color": "white"
             }
            },
            "header": {
             "fill": {
              "color": "#C8D4E3"
             },
             "line": {
              "color": "white"
             }
            },
            "type": "table"
           }
          ]
         },
         "layout": {
          "annotationdefaults": {
           "arrowcolor": "#2a3f5f",
           "arrowhead": 0,
           "arrowwidth": 1
          },
          "autotypenumbers": "strict",
          "coloraxis": {
           "colorbar": {
            "outlinewidth": 0,
            "ticks": ""
           }
          },
          "colorscale": {
           "diverging": [
            [
             0,
             "#8e0152"
            ],
            [
             0.1,
             "#c51b7d"
            ],
            [
             0.2,
             "#de77ae"
            ],
            [
             0.3,
             "#f1b6da"
            ],
            [
             0.4,
             "#fde0ef"
            ],
            [
             0.5,
             "#f7f7f7"
            ],
            [
             0.6,
             "#e6f5d0"
            ],
            [
             0.7,
             "#b8e186"
            ],
            [
             0.8,
             "#7fbc41"
            ],
            [
             0.9,
             "#4d9221"
            ],
            [
             1,
             "#276419"
            ]
           ],
           "sequential": [
            [
             0,
             "#0d0887"
            ],
            [
             0.1111111111111111,
             "#46039f"
            ],
            [
             0.2222222222222222,
             "#7201a8"
            ],
            [
             0.3333333333333333,
             "#9c179e"
            ],
            [
             0.4444444444444444,
             "#bd3786"
            ],
            [
             0.5555555555555556,
             "#d8576b"
            ],
            [
             0.6666666666666666,
             "#ed7953"
            ],
            [
             0.7777777777777778,
             "#fb9f3a"
            ],
            [
             0.8888888888888888,
             "#fdca26"
            ],
            [
             1,
             "#f0f921"
            ]
           ],
           "sequentialminus": [
            [
             0,
             "#0d0887"
            ],
            [
             0.1111111111111111,
             "#46039f"
            ],
            [
             0.2222222222222222,
             "#7201a8"
            ],
            [
             0.3333333333333333,
             "#9c179e"
            ],
            [
             0.4444444444444444,
             "#bd3786"
            ],
            [
             0.5555555555555556,
             "#d8576b"
            ],
            [
             0.6666666666666666,
             "#ed7953"
            ],
            [
             0.7777777777777778,
             "#fb9f3a"
            ],
            [
             0.8888888888888888,
             "#fdca26"
            ],
            [
             1,
             "#f0f921"
            ]
           ]
          },
          "colorway": [
           "#636efa",
           "#EF553B",
           "#00cc96",
           "#ab63fa",
           "#FFA15A",
           "#19d3f3",
           "#FF6692",
           "#B6E880",
           "#FF97FF",
           "#FECB52"
          ],
          "font": {
           "color": "#2a3f5f"
          },
          "geo": {
           "bgcolor": "white",
           "lakecolor": "white",
           "landcolor": "#E5ECF6",
           "showlakes": true,
           "showland": true,
           "subunitcolor": "white"
          },
          "hoverlabel": {
           "align": "left"
          },
          "hovermode": "closest",
          "mapbox": {
           "style": "light"
          },
          "paper_bgcolor": "white",
          "plot_bgcolor": "#E5ECF6",
          "polar": {
           "angularaxis": {
            "gridcolor": "white",
            "linecolor": "white",
            "ticks": ""
           },
           "bgcolor": "#E5ECF6",
           "radialaxis": {
            "gridcolor": "white",
            "linecolor": "white",
            "ticks": ""
           }
          },
          "scene": {
           "xaxis": {
            "backgroundcolor": "#E5ECF6",
            "gridcolor": "white",
            "gridwidth": 2,
            "linecolor": "white",
            "showbackground": true,
            "ticks": "",
            "zerolinecolor": "white"
           },
           "yaxis": {
            "backgroundcolor": "#E5ECF6",
            "gridcolor": "white",
            "gridwidth": 2,
            "linecolor": "white",
            "showbackground": true,
            "ticks": "",
            "zerolinecolor": "white"
           },
           "zaxis": {
            "backgroundcolor": "#E5ECF6",
            "gridcolor": "white",
            "gridwidth": 2,
            "linecolor": "white",
            "showbackground": true,
            "ticks": "",
            "zerolinecolor": "white"
           }
          },
          "shapedefaults": {
           "line": {
            "color": "#2a3f5f"
           }
          },
          "ternary": {
           "aaxis": {
            "gridcolor": "white",
            "linecolor": "white",
            "ticks": ""
           },
           "baxis": {
            "gridcolor": "white",
            "linecolor": "white",
            "ticks": ""
           },
           "bgcolor": "#E5ECF6",
           "caxis": {
            "gridcolor": "white",
            "linecolor": "white",
            "ticks": ""
           }
          },
          "title": {
           "x": 0.05
          },
          "xaxis": {
           "automargin": true,
           "gridcolor": "white",
           "linecolor": "white",
           "ticks": "",
           "title": {
            "standoff": 15
           },
           "zerolinecolor": "white",
           "zerolinewidth": 2
          },
          "yaxis": {
           "automargin": true,
           "gridcolor": "white",
           "linecolor": "white",
           "ticks": "",
           "title": {
            "standoff": 15
           },
           "zerolinecolor": "white",
           "zerolinewidth": 2
          }
         }
        },
        "title": {},
        "updatemenus": [
         {
          "bgcolor": "#F8FAFC",
          "bordercolor": "#E5E7EB",
          "borderwidth": 1,
          "buttons": [
           {
            "args": [
             {
              "visible": [
               true,
               true,
               true,
               true,
               true,
               true,
               true,
               true,
               true,
               true,
               true,
               true,
               true,
               true,
               true,
               true,
               true,
               true,
               true,
               true,
               true,
               true,
               true,
               true,
               true,
               true,
               true,
               true,
               true,
               true,
               true,
               true,
               true,
               true,
               true,
               true,
               true,
               true,
               true,
               true,
               true,
               true,
               true,
               true,
               true,
               true,
               true,
               true,
               true,
               true,
               true,
               true,
               true,
               true,
               true,
               true,
               true,
               true,
               true,
               true,
               true
              ]
             },
             {
              "annotations": [
               {
                "font": {
                 "color": "#273043",
                 "family": "Montserrat, Arial",
                 "size": 22
                },
                "showarrow": false,
                "text": "",
                "x": 0.5,
                "xanchor": "center",
                "xref": "paper",
                "y": 1.12,
                "yanchor": "top",
                "yref": "paper"
               }
              ]
             }
            ],
            "label": "All",
            "method": "update"
           },
           {
            "args": [
             {
              "visible": [
               true,
               true,
               true,
               false,
               false,
               false,
               false,
               false,
               false,
               false,
               false,
               false,
               false,
               false,
               false,
               false,
               false,
               false,
               false,
               false,
               false,
               false,
               false,
               false,
               false,
               false,
               false,
               false,
               false,
               false,
               false,
               false,
               false,
               false,
               false,
               false,
               false,
               false,
               false,
               true,
               false,
               false,
               false,
               false,
               false,
               false,
               false,
               false,
               false,
               false,
               false,
               false,
               false,
               false,
               false,
               false,
               false,
               false,
               true,
               true,
               true
              ]
             },
             {
              "annotations": [
               {
                "font": {
                 "color": "#273043",
                 "family": "Montserrat, Arial",
                 "size": 22
                },
                "showarrow": false,
                "text": "Phase (Feb 2024) - (Apr 2024)",
                "x": 0.5,
                "xanchor": "center",
                "xref": "paper",
                "y": 1.12,
                "yanchor": "top",
                "yref": "paper"
               }
              ]
             }
            ],
            "label": "Apr 2024",
            "method": "update"
           },
           {
            "args": [
             {
              "visible": [
               true,
               true,
               true,
               true,
               true,
               true,
               false,
               false,
               false,
               false,
               false,
               false,
               true,
               true,
               true,
               true,
               true,
               true,
               false,
               false,
               false,
               false,
               false,
               false,
               false,
               false,
               false,
               false,
               false,
               false,
               false,
               false,
               false,
               false,
               false,
               false,
               false,
               false,
               false,
               false,
               false,
               false,
               false,
               false,
               false,
               false,
               false,
               false,
               false,
               false,
               false,
               false,
               false,
               false,
               false,
               false,
               false,
               false,
               true,
               true,
               true
              ]
             },
             {
              "annotations": [
               {
                "font": {
                 "color": "#273043",
                 "family": "Montserrat, Arial",
                 "size": 22
                },
                "showarrow": false,
                "text": "Phase (Oct 2024) - (Jan 2025)",
                "x": 0.5,
                "xanchor": "center",
                "xref": "paper",
                "y": 1.12,
                "yanchor": "top",
                "yref": "paper"
               }
              ]
             }
            ],
            "label": "Jan 2025",
            "method": "update"
           },
           {
            "args": [
             {
              "visible": [
               true,
               true,
               true,
               false,
               false,
               false,
               true,
               true,
               true,
               true,
               true,
               true,
               false,
               false,
               false,
               false,
               false,
               false,
               false,
               false,
               false,
               false,
               false,
               false,
               false,
               false,
               false,
               false,
               false,
               false,
               false,
               false,
               false,
               false,
               false,
               false,
               false,
               false,
               true,
               false,
               false,
               true,
               true,
               true,
               true,
               false,
               false,
               false,
               false,
               false,
               true,
               false,
               false,
               false,
               false,
               false,
               false,
               false,
               true,
               true,
               true
              ]
             },
             {
              "annotations": [
               {
                "font": {
                 "color": "#273043",
                 "family": "Montserrat, Arial",
                 "size": 22
                },
                "showarrow": false,
                "text": "Phase (Oct 2024) - (Feb 2025)",
                "x": 0.5,
                "xanchor": "center",
                "xref": "paper",
                "y": 1.12,
                "yanchor": "top",
                "yref": "paper"
               }
              ]
             }
            ],
            "label": "Feb 2025",
            "method": "update"
           },
           {
            "args": [
             {
              "visible": [
               true,
               true,
               true,
               false,
               false,
               false,
               false,
               false,
               false,
               false,
               false,
               false,
               false,
               false,
               false,
               false,
               false,
               false,
               true,
               false,
               true,
               true,
               true,
               false,
               false,
               true,
               false,
               false,
               false,
               false,
               false,
               false,
               false,
               false,
               false,
               false,
               false,
               false,
               false,
               false,
               false,
               false,
               false,
               false,
               false,
               false,
               false,
               false,
               true,
               false,
               false,
               false,
               false,
               false,
               false,
               false,
               false,
               false,
               true,
               true,
               true
              ]
             },
             {
              "annotations": [
               {
                "font": {
                 "color": "#273043",
                 "family": "Montserrat, Arial",
                 "size": 22
                },
                "showarrow": false,
                "text": "Phase (Dec 2024) - (Mar 2025)",
                "x": 0.5,
                "xanchor": "center",
                "xref": "paper",
                "y": 1.12,
                "yanchor": "top",
                "yref": "paper"
               }
              ]
             }
            ],
            "label": "Mar 2025",
            "method": "update"
           },
           {
            "args": [
             {
              "visible": [
               true,
               true,
               true,
               false,
               false,
               false,
               false,
               false,
               false,
               false,
               false,
               false,
               false,
               false,
               false,
               false,
               false,
               false,
               false,
               false,
               false,
               false,
               false,
               false,
               false,
               false,
               false,
               false,
               false,
               false,
               false,
               false,
               false,
               false,
               false,
               false,
               false,
               false,
               false,
               false,
               false,
               false,
               false,
               false,
               false,
               false,
               false,
               false,
               false,
               false,
               false,
               false,
               true,
               false,
               false,
               false,
               false,
               false,
               true,
               true,
               true
              ]
             },
             {
              "annotations": [
               {
                "font": {
                 "color": "#273043",
                 "family": "Montserrat, Arial",
                 "size": 22
                },
                "showarrow": false,
                "text": "Phase (Mar 2025) - (Apr 2025)",
                "x": 0.5,
                "xanchor": "center",
                "xref": "paper",
                "y": 1.12,
                "yanchor": "top",
                "yref": "paper"
               }
              ]
             }
            ],
            "label": "Apr 2025",
            "method": "update"
           },
           {
            "args": [
             {
              "visible": [
               true,
               true,
               true,
               false,
               false,
               false,
               false,
               false,
               false,
               false,
               false,
               false,
               false,
               false,
               false,
               false,
               false,
               false,
               false,
               false,
               false,
               false,
               false,
               true,
               true,
               false,
               true,
               true,
               true,
               true,
               false,
               false,
               false,
               false,
               false,
               false,
               false,
               false,
               false,
               false,
               false,
               false,
               false,
               false,
               false,
               true,
               true,
               true,
               false,
               false,
               false,
               true,
               false,
               false,
               false,
               false,
               false,
               false,
               true,
               true,
               true
              ]
             },
             {
              "annotations": [
               {
                "font": {
                 "color": "#273043",
                 "family": "Montserrat, Arial",
                 "size": 22
                },
                "showarrow": false,
                "text": "Phase (Dec 2024) - (May 2025)",
                "x": 0.5,
                "xanchor": "center",
                "xref": "paper",
                "y": 1.12,
                "yanchor": "top",
                "yref": "paper"
               }
              ]
             }
            ],
            "label": "May 2025",
            "method": "update"
           },
           {
            "args": [
             {
              "visible": [
               true,
               true,
               true,
               false,
               false,
               false,
               false,
               false,
               false,
               false,
               false,
               false,
               false,
               false,
               false,
               false,
               false,
               false,
               false,
               true,
               false,
               false,
               false,
               false,
               false,
               false,
               false,
               false,
               false,
               false,
               true,
               true,
               true,
               true,
               false,
               false,
               false,
               false,
               false,
               false,
               false,
               false,
               false,
               false,
               false,
               false,
               false,
               false,
               false,
               false,
               false,
               false,
               false,
               true,
               true,
               true,
               true,
               true,
               true,
               true,
               true
              ]
             },
             {
              "annotations": [
               {
                "font": {
                 "color": "#273043",
                 "family": "Montserrat, Arial",
                 "size": 22
                },
                "showarrow": false,
                "text": "Phase (Dec 2024) - (Jun 2025)",
                "x": 0.5,
                "xanchor": "center",
                "xref": "paper",
                "y": 1.12,
                "yanchor": "top",
                "yref": "paper"
               }
              ]
             }
            ],
            "label": "Jun 2025",
            "method": "update"
           },
           {
            "args": [
             {
              "visible": [
               true,
               true,
               true,
               false,
               false,
               false,
               false,
               false,
               false,
               false,
               false,
               false,
               false,
               false,
               false,
               false,
               false,
               false,
               false,
               false,
               false,
               false,
               false,
               false,
               false,
               false,
               false,
               false,
               false,
               false,
               false,
               false,
               false,
               false,
               false,
               false,
               false,
               false,
               false,
               false,
               true,
               false,
               false,
               false,
               false,
               false,
               false,
               false,
               false,
               true,
               false,
               false,
               false,
               false,
               false,
               false,
               false,
               false,
               true,
               true,
               true
              ]
             },
             {
              "annotations": [
               {
                "font": {
                 "color": "#273043",
                 "family": "Montserrat, Arial",
                 "size": 22
                },
                "showarrow": false,
                "text": "Phase (May 2025) - (Jul 2025)",
                "x": 0.5,
                "xanchor": "center",
                "xref": "paper",
                "y": 1.12,
                "yanchor": "top",
                "yref": "paper"
               }
              ]
             }
            ],
            "label": "Jul 2025",
            "method": "update"
           },
           {
            "args": [
             {
              "visible": [
               true,
               true,
               true,
               false,
               false,
               false,
               false,
               false,
               false,
               false,
               false,
               false,
               false,
               false,
               false,
               false,
               false,
               false,
               false,
               false,
               false,
               false,
               false,
               false,
               false,
               false,
               false,
               false,
               false,
               false,
               false,
               false,
               false,
               false,
               true,
               true,
               true,
               true,
               false,
               false,
               false,
               false,
               false,
               false,
               false,
               false,
               false,
               false,
               false,
               false,
               false,
               false,
               false,
               false,
               false,
               false,
               false,
               false,
               true,
               true,
               true
              ]
             },
             {
              "annotations": [
               {
                "font": {
                 "color": "#273043",
                 "family": "Montserrat, Arial",
                 "size": 22
                },
                "showarrow": false,
                "text": "Phase (Jun 2025) - (Sep 2025)",
                "x": 0.5,
                "xanchor": "center",
                "xref": "paper",
                "y": 1.12,
                "yanchor": "top",
                "yref": "paper"
               }
              ]
             }
            ],
            "label": "Sep 2025",
            "method": "update"
           }
          ],
          "direction": "down",
          "font": {
           "color": "#273043",
           "family": "Montserrat",
           "size": 14
          },
          "pad": {
           "b": 5,
           "r": 5,
           "t": 5
          },
          "showactive": true,
          "type": "buttons",
          "x": 1.09,
          "y": 0.99
         }
        ],
        "xaxis": {
         "gridcolor": "#E6EAF0",
         "range": [
          "2024-03-01T00:00:00",
          "2025-09-30T00:00:00"
         ],
         "showgrid": true,
         "tickfont": {
          "family": "Montserrat, Arial",
          "size": 13
         },
         "tickmode": "array",
         "ticktext": [
          "Apr 2024",
          "May 2024",
          "Jun 2024",
          "Jul 2024",
          "Aug 2024",
          "Sep 2024",
          "Oct 2024",
          "Nov 2024",
          "Dec 2024",
          "Jan 2025",
          "Feb 2025",
          "Mar 2025",
          "Apr 2025",
          "May 2025",
          "Jun 2025",
          "Jul 2025",
          "Aug 2025",
          "Sep 2025"
         ],
         "tickvals": [
          "2024-04-01T00:00:00",
          "2024-05-01T00:00:00",
          "2024-06-01T00:00:00",
          "2024-07-01T00:00:00",
          "2024-08-01T00:00:00",
          "2024-09-01T00:00:00",
          "2024-10-01T00:00:00",
          "2024-11-01T00:00:00",
          "2024-12-01T00:00:00",
          "2025-01-01T00:00:00",
          "2025-02-01T00:00:00",
          "2025-03-01T00:00:00",
          "2025-04-01T00:00:00",
          "2025-05-01T00:00:00",
          "2025-06-01T00:00:00",
          "2025-07-01T00:00:00",
          "2025-08-01T00:00:00",
          "2025-09-01T00:00:00"
         ],
         "title": {
          "font": {
           "family": "Montserrat, Arial",
           "size": 16
          },
          "text": "Date (End Date)"
         },
         "zeroline": false
        },
        "yaxis": {
         "range": [
          -0.7,
          3.0999999999999996
         ],
         "showgrid": false,
         "showticklabels": true,
         "ticks": "",
         "ticktext": [
          "User engagement",
          "Logistics",
          "Data economy"
         ],
         "tickvals": [
          0,
          1.2,
          2.4
         ],
         "zeroline": false
        }
       }
      }
     },
     "metadata": {},
     "output_type": "display_data"
    }
   ],
   "source": [
    "\n",
    "\n",
    "# --- PREPROCESADO ---\n",
    "df['Start Date'] = pd.to_datetime(df['Start Date'])\n",
    "df['End Date'] = pd.to_datetime(df['End Date'])\n",
    "df['Point Date'] = df['End Date'].combine_first(df['Start Date']).dt.normalize()\n",
    "df['Month'] = df['Point Date'].dt.to_period('M').dt.to_timestamp()\n",
    "months_sorted = sorted(df['Month'].unique())\n",
    "months_labels = [d.strftime('%b %Y') for d in months_sorted]\n",
    "\n",
    "# Swimlanes\n",
    "SWIMLANE_SPACING = 1.2  # Ajusta este valor para más espacio vertical\n",
    "swimlanes = ['User engagement', 'Logistics', 'Data economy']\n",
    "y_pos = {lane: i * SWIMLANE_SPACING for i, lane in enumerate(swimlanes)}\n",
    "df['base_y'] = df['Swimlane'].map(y_pos)\n",
    "\n",
    "# Colores pastel minimalistas\n",
    "color_map = {\n",
    "    'Target': '#729BFF',\n",
    "    'Milestone': '#58DDAF',\n",
    "    'Barrier': '#FF857F'\n",
    "}\n",
    "df['color'] = df['Events'].map(color_map).fillna('#A0AEC0')\n",
    "\n",
    "# Apilar puntos con solape exacto (misma swimlane y end date normalizado)\n",
    "df['group_id'] = df['Swimlane'].astype(str) + '_' + df['Point Date'].astype(str)\n",
    "group_counts = df.groupby('group_id').cumcount()\n",
    "df['group_offset'] = group_counts\n",
    "vertical_spacing = 0.22\n",
    "df['y'] = df['base_y'] + (df['group_offset'] - df.groupby('group_id')['group_id'].transform('count')/2 + 0.5) * vertical_spacing\n",
    "\n",
    "# Eje x: todos los meses del periodo\n",
    "min_month = df['Month'].min()\n",
    "max_month = df['Month'].max()\n",
    "all_months = pd.date_range(min_month, max_month, freq='MS')\n",
    "\n",
    "fig = go.Figure()\n",
    "\n",
    "# --- Líneas base de swimlane (SIEMPRE visibles) ---\n",
    "for lane, y in y_pos.items():\n",
    "    fig.add_trace(go.Scatter(\n",
    "        x=[min_month, max_month + pd.offsets.MonthEnd(0)],\n",
    "        y=[y, y],\n",
    "        mode='lines',\n",
    "        line=dict(color='#E6EAF0', width=1.5),\n",
    "        showlegend=False,\n",
    "        hoverinfo='skip',\n",
    "        visible=True\n",
    "    ))\n",
    "\n",
    "# --- Líneas horizontales por evento (Reemplazo de puntos) ---\n",
    "line_traces = []\n",
    "for idx, row in df.iterrows():\n",
    "    hover = (\n",
    "        f\"<b>{row['Swimlane']}</b><br>\"\n",
    "        f\"<b>Event:</b> {row['Events']}<br>\"\n",
    "        f\"<b>Phase:</b> {row['Phase']}<br>\"\n",
    "    )\n",
    "    if row['Events'] == 'Target' and pd.notnull(row['Engagement Action']):\n",
    "        hover += f\"<b>Engagement Action:</b> {row['Engagement Action']}<br>\"\n",
    "\n",
    "    line_traces.append(go.Scatter(\n",
    "        x=[row['Start Date'], row['End Date']],\n",
    "        y=[row['y'], row['y']],\n",
    "        mode='lines+text',\n",
    "        line=dict(color=row['color'], width=12, shape='linear'),\n",
    "        name=row['Events'],\n",
    "        showlegend=False,\n",
    "        hovertemplate=hover + \"<extra></extra>\",\n",
    "        visible=True,\n",
    "        text=[row['Row ID']],\n",
    "        textposition=\"middle center\",\n",
    "        textfont=dict(size=8, color=\"#273043\", family=\"Montserrat, Arial\")\n",
    "    ))\n",
    "# Añadir todos los traces de líneas al gráfico\n",
    "for trace in line_traces:\n",
    "    fig.add_trace(trace)\n",
    "\n",
    "# Leyenda ELEGANTE (SIEMPRE visible)\n",
    "for event, color in color_map.items():\n",
    "    fig.add_trace(go.Scatter(\n",
    "        x=[None], y=[None],\n",
    "        mode='markers',\n",
    "        marker=dict(size=15, color=color, line=dict(width=2, color='#fff')),\n",
    "        legendgroup=event,\n",
    "        showlegend=True,\n",
    "        name=event,\n",
    "        hoverinfo=\"none\",\n",
    "        visible=True\n",
    "    ))\n",
    "\n",
    "# --- Prepara los textos dinámicos para cada mes ---\n",
    "phase_texts = []\n",
    "for month in months_sorted:\n",
    "    df_month = df[df['Month'] == month]\n",
    "    if not df_month.empty:\n",
    "        phase = df_month['Phase'].iloc[0]  # Si tienes varias phases por mes, adapta esto\n",
    "        min_fecha = df_month['Start Date'].min().strftime('%b %Y')\n",
    "        fecha_boton = month.strftime('%b %Y')\n",
    "        text = f\"Phase ({min_fecha}) - ({fecha_boton})\"\n",
    "    else:\n",
    "        text = \"\"\n",
    "    phase_texts.append(text)\n",
    "\n",
    "# --- BOTONES compactos y FUNCIONALES ---\n",
    "N_lines = len(swimlanes)\n",
    "N_points = len(line_traces)\n",
    "N_legend = len(color_map)\n",
    "\n",
    "buttons = []\n",
    "\n",
    "# Mostrar todos los eventos (All)\n",
    "visible_all = [True] * N_lines + [True] * N_points + [True] * N_legend\n",
    "buttons.append(dict(\n",
    "    label=\"All\",\n",
    "    method=\"update\",\n",
    "    args=[\n",
    "        {\"visible\": visible_all},\n",
    "        {\"annotations\": [dict(\n",
    "            x=0.5, y=1.12, xref='paper', yref='paper', showarrow=False,\n",
    "            text=\"\",  # O texto por defecto\n",
    "            font=dict(size=22, family=\"Montserrat, Arial\", color=\"#273043\"),\n",
    "            xanchor='center', yanchor='top'\n",
    "        )]}\n",
    "    ]\n",
    "))\n",
    "\n",
    "# Un botón por mes\n",
    "for i, month in enumerate(months_sorted):\n",
    "    visible = [True] * N_lines\n",
    "    for row in df.itertuples():\n",
    "        visible.append(row.Month == month)\n",
    "    visible += [True] * N_legend\n",
    "    buttons.append(dict(\n",
    "        label=months_labels[i],\n",
    "        method=\"update\",\n",
    "        args=[\n",
    "            {\"visible\": visible},\n",
    "            {\"annotations\": [dict(\n",
    "                x=0.5, y=1.12, xref='paper', yref='paper', showarrow=False,\n",
    "                text=phase_texts[i],\n",
    "                font=dict(size=22, family=\"Montserrat, Arial\", color=\"#273043\"),\n",
    "                xanchor='center', yanchor='top'\n",
    "            )]}\n",
    "        ]\n",
    "    ))\n",
    "\n",
    "# --- Eje X: todos los meses, layout amplio ---\n",
    "fig.update_xaxes(\n",
    "    showgrid=True,\n",
    "    gridcolor='#E6EAF0',\n",
    "    tickmode='array',\n",
    "    tickvals=all_months,\n",
    "    ticktext=[d.strftime('%b %Y') for d in all_months],\n",
    "    title=\"Date (End Date)\",\n",
    "    zeroline=False,\n",
    "    tickfont=dict(size=13, family=\"Montserrat, Arial\"),\n",
    "    title_font=dict(size=16, family=\"Montserrat, Arial\"),\n",
    "    range=[min_month - pd.offsets.MonthBegin(1), max_month + pd.offsets.MonthEnd(0)]\n",
    ")\n",
    "\n",
    "# Eje Y limpio\n",
    "fig.update_yaxes(\n",
    "    tickvals=list(y_pos.values()),\n",
    "    ticktext=list(y_pos.keys()),\n",
    "    showgrid=False,\n",
    "    zeroline=False,\n",
    "    showticklabels=True,\n",
    "    range=[-0.7, SWIMLANE_SPACING * (len(swimlanes)-1) + 0.7],\n",
    "    ticks=\"\"\n",
    ")\n",
    "\n",
    "# Layout profesional y espacioso con botones arriba a la derecha\n",
    "fig.update_layout(\n",
    "    title=None,  # SIN título ni subtítulo\n",
    "    font_family=\"Montserrat, Arial\",\n",
    "    font_color=\"#273043\",\n",
    "    plot_bgcolor=\"#fff\",\n",
    "    paper_bgcolor=\"#fff\",\n",
    "    margin=dict(l=120, r=40, t=110, b=60),\n",
    "    hoverlabel=dict(bgcolor=\"white\", font_size=14, font_family=\"Montserrat\"),\n",
    "    legend=dict(\n",
    "        title=\"Event Type\",\n",
    "        orientation=\"h\",\n",
    "        yanchor=\"bottom\",\n",
    "        y=1.18,\n",
    "        xanchor=\"left\",\n",
    "        x=0.01,\n",
    "        font=dict(size=13)\n",
    "    ),\n",
    "    height=650,\n",
    "    updatemenus=[\n",
    "        dict(\n",
    "            type=\"buttons\",\n",
    "            direction=\"down\",\n",
    "            showactive=True,\n",
    "            x=1.09,\n",
    "            y=0.99,\n",
    "            buttons=buttons,\n",
    "            bgcolor=\"#F8FAFC\",\n",
    "            bordercolor=\"#E5E7EB\",\n",
    "            borderwidth=1,\n",
    "            font=dict(size=14, color=\"#273043\", family=\"Montserrat\"),\n",
    "            pad={\"r\": 5, \"t\": 5, \"b\": 5}\n",
    "        )\n",
    "    ],\n",
    "    annotations=[dict(\n",
    "        x=0.5, y=1.12, xref='paper', yref='paper', showarrow=False,\n",
    "        text=\"\",  # Arranca vacío\n",
    "        font=dict(size=22, family=\"Montserrat, Arial\", color=\"#273043\"),\n",
    "        xanchor='center', yanchor='top'\n",
    "    )]\n",
    ")\n",
    "\n",
    "fig.show()"
   ]
  }
 ],
 "metadata": {
  "kernelspec": {
   "display_name": "Python 3",
   "language": "python",
   "name": "python3"
  },
  "language_info": {
   "codemirror_mode": {
    "name": "ipython",
    "version": 3
   },
   "file_extension": ".py",
   "mimetype": "text/x-python",
   "name": "python",
   "nbconvert_exporter": "python",
   "pygments_lexer": "ipython3",
   "version": "3.10.11"
  }
 },
 "nbformat": 4,
 "nbformat_minor": 2
}
